{
 "cells": [
  {
   "attachments": {},
   "cell_type": "markdown",
   "metadata": {},
   "source": [
    "# Single Fully Connected Layer SNN to Classify MNIST"
   ]
  },
  {
   "cell_type": "code",
   "execution_count": 4,
   "metadata": {},
   "outputs": [],
   "source": [
    "import\n",
    "import torch\n",
    "import torch.nn as nn\n",
    "import torch.nn.functional as F\n",
    "from spikingjelly.activation_based import neuron, functional, layer, surrogate\n"
   ]
  },
  {
   "cell_type": "code",
   "execution_count": 5,
   "metadata": {},
   "outputs": [
    {
     "ename": "AssertionError",
     "evalue": "",
     "output_type": "error",
     "traceback": [
      "\u001b[0;31m---------------------------------------------------------------------------\u001b[0m",
      "\u001b[0;31mAssertionError\u001b[0m                            Traceback (most recent call last)",
      "Cell \u001b[0;32mIn[5], line 10\u001b[0m\n\u001b[1;32m      1\u001b[0m annNet \u001b[39m=\u001b[39m nn\u001b[39m.\u001b[39mSequential(\n\u001b[1;32m      2\u001b[0m     nn\u001b[39m.\u001b[39mFlatten(),\n\u001b[1;32m      3\u001b[0m     nn\u001b[39m.\u001b[39mLinear(\u001b[39m28\u001b[39m\u001b[39m*\u001b[39m\u001b[39m28\u001b[39m, \u001b[39m10\u001b[39m, bias\u001b[39m=\u001b[39m\u001b[39mFalse\u001b[39;00m),\n\u001b[1;32m      4\u001b[0m     nn\u001b[39m.\u001b[39mSoftmax()\n\u001b[1;32m      5\u001b[0m )\n\u001b[1;32m      7\u001b[0m snnNet \u001b[39m=\u001b[39m nn\u001b[39m.\u001b[39mSequential(\n\u001b[1;32m      8\u001b[0m     layer\u001b[39m.\u001b[39mFlatten(),\n\u001b[1;32m      9\u001b[0m     layer\u001b[39m.\u001b[39mLinear(\u001b[39m28\u001b[39m\u001b[39m*\u001b[39m\u001b[39m28\u001b[39m, \u001b[39m10\u001b[39m, bias\u001b[39m=\u001b[39m\u001b[39mFalse\u001b[39;00m),\n\u001b[0;32m---> 10\u001b[0m     neuron\u001b[39m.\u001b[39;49mLIFNode(tau\u001b[39m=\u001b[39;49m\u001b[39m1\u001b[39;49m, surrogate_function\u001b[39m=\u001b[39;49msurrogate\u001b[39m.\u001b[39;49mATan())\n\u001b[1;32m     11\u001b[0m )\n",
      "File \u001b[0;32m~/miniconda3/envs/torch/lib/python3.9/site-packages/spikingjelly-0.0.0.0.13-py3.9.egg/spikingjelly/activation_based/neuron.py:667\u001b[0m, in \u001b[0;36mLIFNode.__init__\u001b[0;34m(self, tau, decay_input, v_threshold, v_reset, surrogate_function, detach_reset, step_mode, backend, store_v_seq)\u001b[0m\n\u001b[1;32m    564\u001b[0m \u001b[39mdef\u001b[39;00m \u001b[39m__init__\u001b[39m(\u001b[39mself\u001b[39m, tau: \u001b[39mfloat\u001b[39m \u001b[39m=\u001b[39m \u001b[39m2.\u001b[39m, decay_input: \u001b[39mbool\u001b[39m \u001b[39m=\u001b[39m \u001b[39mTrue\u001b[39;00m, v_threshold: \u001b[39mfloat\u001b[39m \u001b[39m=\u001b[39m \u001b[39m1.\u001b[39m,\n\u001b[1;32m    565\u001b[0m              v_reset: \u001b[39mfloat\u001b[39m \u001b[39m=\u001b[39m \u001b[39m0.\u001b[39m, surrogate_function: Callable \u001b[39m=\u001b[39m surrogate\u001b[39m.\u001b[39mSigmoid(),\n\u001b[1;32m    566\u001b[0m              detach_reset: \u001b[39mbool\u001b[39m \u001b[39m=\u001b[39m \u001b[39mFalse\u001b[39;00m, step_mode\u001b[39m=\u001b[39m\u001b[39m'\u001b[39m\u001b[39ms\u001b[39m\u001b[39m'\u001b[39m, backend\u001b[39m=\u001b[39m\u001b[39m'\u001b[39m\u001b[39mtorch\u001b[39m\u001b[39m'\u001b[39m, store_v_seq: \u001b[39mbool\u001b[39m \u001b[39m=\u001b[39m \u001b[39mFalse\u001b[39;00m):\n\u001b[1;32m    567\u001b[0m     \u001b[39m\"\"\"\u001b[39;00m\n\u001b[1;32m    568\u001b[0m \u001b[39m    * :ref:`API in English <LIFNode.__init__-en>`\u001b[39;00m\n\u001b[1;32m    569\u001b[0m \n\u001b[0;32m   (...)\u001b[0m\n\u001b[1;32m    665\u001b[0m \n\u001b[1;32m    666\u001b[0m \u001b[39m    \"\"\"\u001b[39;00m\n\u001b[0;32m--> 667\u001b[0m     \u001b[39massert\u001b[39;00m \u001b[39misinstance\u001b[39m(tau, \u001b[39mfloat\u001b[39m) \u001b[39mand\u001b[39;00m tau \u001b[39m>\u001b[39m \u001b[39m1.\u001b[39m\n\u001b[1;32m    669\u001b[0m     \u001b[39msuper\u001b[39m()\u001b[39m.\u001b[39m\u001b[39m__init__\u001b[39m(v_threshold, v_reset, surrogate_function, detach_reset, step_mode, backend, store_v_seq)\n\u001b[1;32m    671\u001b[0m     \u001b[39mself\u001b[39m\u001b[39m.\u001b[39mtau \u001b[39m=\u001b[39m tau\n",
      "\u001b[0;31mAssertionError\u001b[0m: "
     ]
    }
   ],
   "source": [
    "annNet = nn.Sequential(\n",
    "    nn.Flatten(),\n",
    "    nn.Linear(28*28, 10, bias=False),\n",
    "    nn.Softmax()\n",
    ")\n",
    "\n",
    "snnNet = nn.Sequential(\n",
    "    layer.Flatten(),\n",
    "    layer.Linear(28*28, 10, bias=False),\n",
    "    neuron.LIFNode(tau=, surrogate_function=surrogate.ATan())\n",
    ")"
   ]
  },
  {
   "cell_type": "code",
   "execution_count": null,
   "metadata": {},
   "outputs": [],
   "source": []
  }
 ],
 "metadata": {
  "kernelspec": {
   "display_name": "torch",
   "language": "python",
   "name": "python3"
  },
  "language_info": {
   "codemirror_mode": {
    "name": "ipython",
    "version": 3
   },
   "file_extension": ".py",
   "mimetype": "text/x-python",
   "name": "python",
   "nbconvert_exporter": "python",
   "pygments_lexer": "ipython3",
   "version": "3.9.13 (main, Aug 25 2022, 23:26:10) \n[GCC 11.2.0]"
  },
  "orig_nbformat": 4,
  "vscode": {
   "interpreter": {
    "hash": "e6ca964d4abc3a4ce503db1921255ffd22b6780f73bbbaa8d4d0d179452778ee"
   }
  }
 },
 "nbformat": 4,
 "nbformat_minor": 2
}
