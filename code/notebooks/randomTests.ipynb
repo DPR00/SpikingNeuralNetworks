{
 "cells": [
  {
   "cell_type": "code",
   "execution_count": 20,
   "metadata": {},
   "outputs": [],
   "source": [
    "import torch\n",
    "from spikingjelly.datasets import dvs128_gesture\n",
    "import time\n",
    "import sys\n",
    "\n",
    "sys.path.append('./..')\n",
    "\n",
    "import deepModelsDVS, utils\n"
   ]
  },
  {
   "cell_type": "code",
   "execution_count": 21,
   "metadata": {},
   "outputs": [],
   "source": [
    "def load_data(dataset_dir, distributed, T):\n",
    "    # Data loading code\n",
    "    print(\"Loading data\")\n",
    "\n",
    "    st = time.time()\n",
    "\n",
    "    dataset_train = dvs128_gesture.DVS128Gesture(root=dataset_dir, train=True, data_type='frame', frames_number=T, split_by='number')\n",
    "    dataset_test = dvs128_gesture.DVS128Gesture(root=dataset_dir, train=False, data_type='frame', frames_number=T, split_by='number')\n",
    "\n",
    "\n",
    "    print(\"Took\", time.time() - st)\n",
    "\n",
    "    print(\"Creating data loaders\")\n",
    "    if distributed:\n",
    "        train_sampler = torch.utils.data.distributed.DistributedSampler(dataset_train)\n",
    "        test_sampler = torch.utils.data.distributed.DistributedSampler(dataset_test)\n",
    "    else:\n",
    "        train_sampler = torch.utils.data.RandomSampler(dataset_train)\n",
    "        test_sampler = torch.utils.data.SequentialSampler(dataset_test)\n",
    "\n",
    "    return dataset_train, dataset_test, train_sampler, test_sampler\n"
   ]
  },
  {
   "cell_type": "code",
   "execution_count": 22,
   "metadata": {},
   "outputs": [
    {
     "name": "stdout",
     "output_type": "stream",
     "text": [
      "Loading data\n",
      "The directory [./../datasets/DVSGesture/frames_number_16_split_by_number] already exists.\n",
      "The directory [./../datasets/DVSGesture/frames_number_16_split_by_number] already exists.\n",
      "Took 0.007129192352294922\n",
      "Creating data loaders\n",
      "dataset_train:1176, dataset_test:288\n"
     ]
    }
   ],
   "source": [
    "data_path = './../datasets/DVSGesture/'\n",
    "distributed = False\n",
    "T = 16\n",
    "\n",
    "dataset_train, dataset_test, train_sampler, test_sampler = load_data(data_path, distributed, T)\n",
    "print(f'dataset_train:{dataset_train.__len__()}, dataset_test:{dataset_test.__len__()}')\n",
    "\n",
    "data_loader = torch.utils.data.DataLoader(\n",
    "    dataset_train, batch_size= 1,\n",
    "    sampler=train_sampler, num_workers= 8, pin_memory=True)\n",
    "\n",
    "data_loader_test = torch.utils.data.DataLoader(\n",
    "    dataset_test, batch_size= 1,\n",
    "    sampler=test_sampler, num_workers= 8, pin_memory=True)\n"
   ]
  },
  {
   "cell_type": "code",
   "execution_count": 15,
   "metadata": {},
   "outputs": [
    {
     "name": "stdout",
     "output_type": "stream",
     "text": [
      "Creating model\n"
     ]
    },
    {
     "data": {
      "text/plain": [
       "ResNetN(\n",
       "  (conv): Sequential(\n",
       "    (0): Sequential(\n",
       "      (0): SeqToANNContainer(\n",
       "        (0): Conv2d(2, 32, kernel_size=(1, 1), stride=(1, 1), bias=False)\n",
       "        (1): BatchNorm2d(32, eps=1e-05, momentum=0.1, affine=True, track_running_stats=True)\n",
       "      )\n",
       "      (1): ParametricLIFNode(\n",
       "        v_threshold=1.0, v_reset=0.0, detach_reset=True, step_mode=s, backend=torch, tau=2.0\n",
       "        (surrogate_function): Sigmoid(alpha=4.0, spiking=True)\n",
       "      )\n",
       "    )\n",
       "    (1): SEWBlock(\n",
       "      (conv): Sequential(\n",
       "        (0): Sequential(\n",
       "          (0): SeqToANNContainer(\n",
       "            (0): Conv2d(32, 32, kernel_size=(3, 3), stride=(1, 1), padding=(1, 1), bias=False)\n",
       "            (1): BatchNorm2d(32, eps=1e-05, momentum=0.1, affine=True, track_running_stats=True)\n",
       "          )\n",
       "          (1): ParametricLIFNode(\n",
       "            v_threshold=1.0, v_reset=0.0, detach_reset=True, step_mode=s, backend=torch, tau=2.0\n",
       "            (surrogate_function): Sigmoid(alpha=4.0, spiking=True)\n",
       "          )\n",
       "        )\n",
       "        (1): Sequential(\n",
       "          (0): SeqToANNContainer(\n",
       "            (0): Conv2d(32, 32, kernel_size=(3, 3), stride=(1, 1), padding=(1, 1), bias=False)\n",
       "            (1): BatchNorm2d(32, eps=1e-05, momentum=0.1, affine=True, track_running_stats=True)\n",
       "          )\n",
       "          (1): ParametricLIFNode(\n",
       "            v_threshold=1.0, v_reset=0.0, detach_reset=True, step_mode=s, backend=torch, tau=2.0\n",
       "            (surrogate_function): Sigmoid(alpha=4.0, spiking=True)\n",
       "          )\n",
       "        )\n",
       "      )\n",
       "    )\n",
       "    (2): SeqToANNContainer(\n",
       "      (0): MaxPool2d(kernel_size=2, stride=2, padding=0, dilation=1, ceil_mode=False)\n",
       "    )\n",
       "    (3): SEWBlock(\n",
       "      (conv): Sequential(\n",
       "        (0): Sequential(\n",
       "          (0): SeqToANNContainer(\n",
       "            (0): Conv2d(32, 32, kernel_size=(3, 3), stride=(1, 1), padding=(1, 1), bias=False)\n",
       "            (1): BatchNorm2d(32, eps=1e-05, momentum=0.1, affine=True, track_running_stats=True)\n",
       "          )\n",
       "          (1): ParametricLIFNode(\n",
       "            v_threshold=1.0, v_reset=0.0, detach_reset=True, step_mode=s, backend=torch, tau=2.0\n",
       "            (surrogate_function): Sigmoid(alpha=4.0, spiking=True)\n",
       "          )\n",
       "        )\n",
       "        (1): Sequential(\n",
       "          (0): SeqToANNContainer(\n",
       "            (0): Conv2d(32, 32, kernel_size=(3, 3), stride=(1, 1), padding=(1, 1), bias=False)\n",
       "            (1): BatchNorm2d(32, eps=1e-05, momentum=0.1, affine=True, track_running_stats=True)\n",
       "          )\n",
       "          (1): ParametricLIFNode(\n",
       "            v_threshold=1.0, v_reset=0.0, detach_reset=True, step_mode=s, backend=torch, tau=2.0\n",
       "            (surrogate_function): Sigmoid(alpha=4.0, spiking=True)\n",
       "          )\n",
       "        )\n",
       "      )\n",
       "    )\n",
       "    (4): SeqToANNContainer(\n",
       "      (0): MaxPool2d(kernel_size=2, stride=2, padding=0, dilation=1, ceil_mode=False)\n",
       "    )\n",
       "    (5): SEWBlock(\n",
       "      (conv): Sequential(\n",
       "        (0): Sequential(\n",
       "          (0): SeqToANNContainer(\n",
       "            (0): Conv2d(32, 32, kernel_size=(3, 3), stride=(1, 1), padding=(1, 1), bias=False)\n",
       "            (1): BatchNorm2d(32, eps=1e-05, momentum=0.1, affine=True, track_running_stats=True)\n",
       "          )\n",
       "          (1): ParametricLIFNode(\n",
       "            v_threshold=1.0, v_reset=0.0, detach_reset=True, step_mode=s, backend=torch, tau=2.0\n",
       "            (surrogate_function): Sigmoid(alpha=4.0, spiking=True)\n",
       "          )\n",
       "        )\n",
       "        (1): Sequential(\n",
       "          (0): SeqToANNContainer(\n",
       "            (0): Conv2d(32, 32, kernel_size=(3, 3), stride=(1, 1), padding=(1, 1), bias=False)\n",
       "            (1): BatchNorm2d(32, eps=1e-05, momentum=0.1, affine=True, track_running_stats=True)\n",
       "          )\n",
       "          (1): ParametricLIFNode(\n",
       "            v_threshold=1.0, v_reset=0.0, detach_reset=True, step_mode=s, backend=torch, tau=2.0\n",
       "            (surrogate_function): Sigmoid(alpha=4.0, spiking=True)\n",
       "          )\n",
       "        )\n",
       "      )\n",
       "    )\n",
       "    (6): SeqToANNContainer(\n",
       "      (0): MaxPool2d(kernel_size=2, stride=2, padding=0, dilation=1, ceil_mode=False)\n",
       "    )\n",
       "    (7): SEWBlock(\n",
       "      (conv): Sequential(\n",
       "        (0): Sequential(\n",
       "          (0): SeqToANNContainer(\n",
       "            (0): Conv2d(32, 32, kernel_size=(3, 3), stride=(1, 1), padding=(1, 1), bias=False)\n",
       "            (1): BatchNorm2d(32, eps=1e-05, momentum=0.1, affine=True, track_running_stats=True)\n",
       "          )\n",
       "          (1): ParametricLIFNode(\n",
       "            v_threshold=1.0, v_reset=0.0, detach_reset=True, step_mode=s, backend=torch, tau=2.0\n",
       "            (surrogate_function): Sigmoid(alpha=4.0, spiking=True)\n",
       "          )\n",
       "        )\n",
       "        (1): Sequential(\n",
       "          (0): SeqToANNContainer(\n",
       "            (0): Conv2d(32, 32, kernel_size=(3, 3), stride=(1, 1), padding=(1, 1), bias=False)\n",
       "            (1): BatchNorm2d(32, eps=1e-05, momentum=0.1, affine=True, track_running_stats=True)\n",
       "          )\n",
       "          (1): ParametricLIFNode(\n",
       "            v_threshold=1.0, v_reset=0.0, detach_reset=True, step_mode=s, backend=torch, tau=2.0\n",
       "            (surrogate_function): Sigmoid(alpha=4.0, spiking=True)\n",
       "          )\n",
       "        )\n",
       "      )\n",
       "    )\n",
       "    (8): SeqToANNContainer(\n",
       "      (0): MaxPool2d(kernel_size=2, stride=2, padding=0, dilation=1, ceil_mode=False)\n",
       "    )\n",
       "    (9): SEWBlock(\n",
       "      (conv): Sequential(\n",
       "        (0): Sequential(\n",
       "          (0): SeqToANNContainer(\n",
       "            (0): Conv2d(32, 32, kernel_size=(3, 3), stride=(1, 1), padding=(1, 1), bias=False)\n",
       "            (1): BatchNorm2d(32, eps=1e-05, momentum=0.1, affine=True, track_running_stats=True)\n",
       "          )\n",
       "          (1): ParametricLIFNode(\n",
       "            v_threshold=1.0, v_reset=0.0, detach_reset=True, step_mode=s, backend=torch, tau=2.0\n",
       "            (surrogate_function): Sigmoid(alpha=4.0, spiking=True)\n",
       "          )\n",
       "        )\n",
       "        (1): Sequential(\n",
       "          (0): SeqToANNContainer(\n",
       "            (0): Conv2d(32, 32, kernel_size=(3, 3), stride=(1, 1), padding=(1, 1), bias=False)\n",
       "            (1): BatchNorm2d(32, eps=1e-05, momentum=0.1, affine=True, track_running_stats=True)\n",
       "          )\n",
       "          (1): ParametricLIFNode(\n",
       "            v_threshold=1.0, v_reset=0.0, detach_reset=True, step_mode=s, backend=torch, tau=2.0\n",
       "            (surrogate_function): Sigmoid(alpha=4.0, spiking=True)\n",
       "          )\n",
       "        )\n",
       "      )\n",
       "    )\n",
       "    (10): SeqToANNContainer(\n",
       "      (0): MaxPool2d(kernel_size=2, stride=2, padding=0, dilation=1, ceil_mode=False)\n",
       "    )\n",
       "    (11): SEWBlock(\n",
       "      (conv): Sequential(\n",
       "        (0): Sequential(\n",
       "          (0): SeqToANNContainer(\n",
       "            (0): Conv2d(32, 32, kernel_size=(3, 3), stride=(1, 1), padding=(1, 1), bias=False)\n",
       "            (1): BatchNorm2d(32, eps=1e-05, momentum=0.1, affine=True, track_running_stats=True)\n",
       "          )\n",
       "          (1): ParametricLIFNode(\n",
       "            v_threshold=1.0, v_reset=0.0, detach_reset=True, step_mode=s, backend=torch, tau=2.0\n",
       "            (surrogate_function): Sigmoid(alpha=4.0, spiking=True)\n",
       "          )\n",
       "        )\n",
       "        (1): Sequential(\n",
       "          (0): SeqToANNContainer(\n",
       "            (0): Conv2d(32, 32, kernel_size=(3, 3), stride=(1, 1), padding=(1, 1), bias=False)\n",
       "            (1): BatchNorm2d(32, eps=1e-05, momentum=0.1, affine=True, track_running_stats=True)\n",
       "          )\n",
       "          (1): ParametricLIFNode(\n",
       "            v_threshold=1.0, v_reset=0.0, detach_reset=True, step_mode=s, backend=torch, tau=2.0\n",
       "            (surrogate_function): Sigmoid(alpha=4.0, spiking=True)\n",
       "          )\n",
       "        )\n",
       "      )\n",
       "    )\n",
       "    (12): SeqToANNContainer(\n",
       "      (0): MaxPool2d(kernel_size=2, stride=2, padding=0, dilation=1, ceil_mode=False)\n",
       "    )\n",
       "    (13): SEWBlock(\n",
       "      (conv): Sequential(\n",
       "        (0): Sequential(\n",
       "          (0): SeqToANNContainer(\n",
       "            (0): Conv2d(32, 32, kernel_size=(3, 3), stride=(1, 1), padding=(1, 1), bias=False)\n",
       "            (1): BatchNorm2d(32, eps=1e-05, momentum=0.1, affine=True, track_running_stats=True)\n",
       "          )\n",
       "          (1): ParametricLIFNode(\n",
       "            v_threshold=1.0, v_reset=0.0, detach_reset=True, step_mode=s, backend=torch, tau=2.0\n",
       "            (surrogate_function): Sigmoid(alpha=4.0, spiking=True)\n",
       "          )\n",
       "        )\n",
       "        (1): Sequential(\n",
       "          (0): SeqToANNContainer(\n",
       "            (0): Conv2d(32, 32, kernel_size=(3, 3), stride=(1, 1), padding=(1, 1), bias=False)\n",
       "            (1): BatchNorm2d(32, eps=1e-05, momentum=0.1, affine=True, track_running_stats=True)\n",
       "          )\n",
       "          (1): ParametricLIFNode(\n",
       "            v_threshold=1.0, v_reset=0.0, detach_reset=True, step_mode=s, backend=torch, tau=2.0\n",
       "            (surrogate_function): Sigmoid(alpha=4.0, spiking=True)\n",
       "          )\n",
       "        )\n",
       "      )\n",
       "    )\n",
       "    (14): SeqToANNContainer(\n",
       "      (0): MaxPool2d(kernel_size=2, stride=2, padding=0, dilation=1, ceil_mode=False)\n",
       "    )\n",
       "    (15): Flatten(start_dim=2, end_dim=-1)\n",
       "  )\n",
       "  (out): Linear(in_features=32, out_features=11, bias=True)\n",
       ")"
      ]
     },
     "execution_count": 15,
     "metadata": {},
     "output_type": "execute_result"
    }
   ],
   "source": [
    "device = 'cuda:2'\n",
    "aModel = 'SEWResNet'\n",
    "aConnect_f = 'ADD'\n",
    "\n",
    "model = deepModelsDVS.__dict__[aModel](aConnect_f) #deepModelsDVS.SEWResNet(args.connect_f) \n",
    "print(\"Creating model\")\n",
    "\n",
    "model.to(device)"
   ]
  },
  {
   "cell_type": "code",
   "execution_count": 23,
   "metadata": {},
   "outputs": [
    {
     "data": {
      "text/plain": [
       "<torch.utils.data.dataloader.DataLoader at 0x7f10643c3dc0>"
      ]
     },
     "execution_count": 23,
     "metadata": {},
     "output_type": "execute_result"
    }
   ],
   "source": [
    "data_loader"
   ]
  },
  {
   "cell_type": "code",
   "execution_count": 24,
   "metadata": {},
   "outputs": [
    {
     "name": "stdout",
     "output_type": "stream",
     "text": [
      "tensor([[-0.9257,  5.1297, -2.7845, -3.3966,  0.1226, -1.5026,  0.5724, -0.8258,\n",
      "          3.4552,  0.3725,  1.7478]], device='cuda:2',\n",
      "       grad_fn=<AddmmBackward0>)\n",
      "tensor([0], device='cuda:2')\n"
     ]
    }
   ],
   "source": [
    "model.train()\n",
    "metric_logger = utils.MetricLogger(delimiter=\"  \")\n",
    "metric_logger.add_meter('lr', utils.SmoothedValue(window_size=1, fmt='{value}'))\n",
    "metric_logger.add_meter('img/s', utils.SmoothedValue(window_size=10, fmt='{value}'))\n",
    "header = 'Epoch: [{}]'.format(0)\n",
    "for image, target in metric_logger.log_every(data_loader, 64, header):\n",
    "    start_time = time.time()\n",
    "    image, target = image.to(device), target.to(device)\n",
    "    image = image.float()  # [N, T, C, H, W]\n",
    "    output = model(image)\n",
    "    print(output)\n",
    "    print(target)\n",
    "    break\n"
   ]
  },
  {
   "cell_type": "code",
   "execution_count": 7,
   "metadata": {},
   "outputs": [
    {
     "data": {
      "text/plain": [
       "tensor([7], device='cuda:2')"
      ]
     },
     "execution_count": 7,
     "metadata": {},
     "output_type": "execute_result"
    }
   ],
   "source": [
    "for image, label in data_loader:\n",
    "    image, label = image.to('cuda:2'), label.to('cuda:2')\n",
    "    break\n",
    "\n",
    "label"
   ]
  },
  {
   "cell_type": "code",
   "execution_count": null,
   "metadata": {},
   "outputs": [],
   "source": []
  }
 ],
 "metadata": {
  "kernelspec": {
   "display_name": "spikingEnv",
   "language": "python",
   "name": "python3"
  },
  "language_info": {
   "codemirror_mode": {
    "name": "ipython",
    "version": 3
   },
   "file_extension": ".py",
   "mimetype": "text/x-python",
   "name": "python",
   "nbconvert_exporter": "python",
   "pygments_lexer": "ipython3",
   "version": "3.9.16"
  },
  "orig_nbformat": 4,
  "vscode": {
   "interpreter": {
    "hash": "5a5a945ca4c9e4dca3894582b7dda56b0ef98e1a2cab9999d975e10988c386de"
   }
  }
 },
 "nbformat": 4,
 "nbformat_minor": 2
}
