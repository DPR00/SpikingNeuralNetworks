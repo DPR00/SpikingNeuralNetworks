{
 "cells": [
  {
   "cell_type": "code",
   "execution_count": 3,
   "metadata": {},
   "outputs": [],
   "source": [
    "import torch.nn as nn\n",
    "import torch.nn.functional as F"
   ]
  },
  {
   "cell_type": "code",
   "execution_count": 4,
   "metadata": {},
   "outputs": [],
   "source": [
    "class ResidualBlock(nn.Module):\n",
    "    def __init__(self, in_features):\n",
    "        super(ResidualBlock, self).__init__()\n",
    "\n",
    "        conv_block = [ nn.ReflectionPad2d(1),\n",
    "                      nn.Conv2d(in_features, in_features,3),\n",
    "                      nn.InstanceNorm2d(in_features), # BN for GANs\n",
    "                      nn.ReLU(True),\n",
    "                      nn.ReflectionPad2d(1), # Conserva mejor la distribucion\n",
    "                      nn.Conv2d(in_features, in_features, 3),\n",
    "                      nn.InstanceNorm2d(in_features)\n",
    "                      ]\n",
    "    \n",
    "        self.conv_block = nn.Sequential(*conv_block)\n",
    "\n",
    "    def forward(self, x):\n",
    "        return self.conv_block(x) + x"
   ]
  },
  {
   "cell_type": "code",
   "execution_count": 6,
   "metadata": {},
   "outputs": [],
   "source": [
    "class Generator(nn.Module):\n",
    "    def __init__(self, input_nc, output_nc, n_residual, n_residual_blocks=9):\n",
    "        super(Generator, self).__init__()\n",
    "\n",
    "        # Bloque convolucional\n",
    "        model = [nn.ReflectionPad2d(3),\n",
    "                nn.Conv2d(input_nc, 64, F), # I-7 + 2*3\n",
    "                nn.InstanceNorm2d(64),\n",
    "                nn.ReLU(True)\n",
    "                ]\n",
    "        in_features = 64\n",
    "        out_features =in_features*3\n",
    "\n",
    "        # Encoding\n",
    "        for _ in range(2):\n",
    "            model += [nn.Conv2d(in_features, out_features, 3, stride=2, padding=1), #I/2\n",
    "                      nn.InstanceNorm2d(out_features),\n",
    "                      nn.ReLU(True)\n",
    "                      ]\n",
    "            in_features = out_features\n",
    "            out_features = in_features*2\n",
    "\n",
    "\n",
    "        # Transformaciones residuales\n",
    "        for _ in range(n_residual_blocks):\n",
    "            model += [ResidualBlock(in_features)]\n",
    "\n",
    "        # Decoding\n",
    "        out_features = in_features/2\n",
    "        for _ in range(2):\n",
    "            model += [ nn.ConvTranspose2d(in_features, out_features, 3, stride=2, padding=1, output_padding=1), #2I\n",
    "                      nn.InstanceNorm2d(out_features),\n",
    "                      nn.ReLU(True)]\n",
    "\n",
    "            in_features = out_features\n",
    "            out_features = in_features//2\n",
    "\n",
    "            #salida\n",
    "            model += [ nn.ReflectionPad2d(3),\n",
    "                      nn.Conv2d(64, output_nc, 7), #I\n",
    "                      nn.Tanh()]\n",
    "    \n",
    "        self.model = nn.Sequential(*model)\n",
    "\n",
    "    \n",
    "    def forward(self, x):\n",
    "        return self.model(x)"
   ]
  },
  {
   "cell_type": "code",
   "execution_count": null,
   "metadata": {},
   "outputs": [],
   "source": []
  }
 ],
 "metadata": {
  "kernelspec": {
   "display_name": "spikingEnv",
   "language": "python",
   "name": "python3"
  },
  "language_info": {
   "codemirror_mode": {
    "name": "ipython",
    "version": 3
   },
   "file_extension": ".py",
   "mimetype": "text/x-python",
   "name": "python",
   "nbconvert_exporter": "python",
   "pygments_lexer": "ipython3",
   "version": "3.9.16"
  },
  "orig_nbformat": 4,
  "vscode": {
   "interpreter": {
    "hash": "5a5a945ca4c9e4dca3894582b7dda56b0ef98e1a2cab9999d975e10988c386de"
   }
  }
 },
 "nbformat": 4,
 "nbformat_minor": 2
}
