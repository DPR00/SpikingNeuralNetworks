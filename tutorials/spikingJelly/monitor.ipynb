{
 "cells": [
  {
   "cell_type": "code",
   "execution_count": 20,
   "metadata": {},
   "outputs": [],
   "source": [
    "import torch\n",
    "import torch.nn as nn\n",
    "from spikingjelly.activation_based import neuron, functional, monitor"
   ]
  },
  {
   "attachments": {},
   "cell_type": "markdown",
   "metadata": {},
   "source": [
    "# Monitor\n",
    "\n",
    "`spikingjelly.activation_based.monitor` has defined some commonly used monitors, with which the users can record the data that they are interested in. Now let us try these monitors."
   ]
  },
  {
   "attachments": {},
   "cell_type": "markdown",
   "metadata": {},
   "source": [
    "## Usage"
   ]
  },
  {
   "cell_type": "code",
   "execution_count": 22,
   "metadata": {},
   "outputs": [],
   "source": [
    "net = nn.Sequential(\n",
    "    nn.Linear(in_features=8, out_features=4, bias=True),\n",
    "    neuron.IFNode(step_mode='m'),\n",
    "    nn.Linear(in_features=4, out_features=2, bias=True),\n",
    "    neuron.IFNode(step_mode='m')\n",
    ")"
   ]
  },
  {
   "cell_type": "code",
   "execution_count": 23,
   "metadata": {},
   "outputs": [],
   "source": [
    "spike_seq_monitor = monitor.OutputMonitor(net, neuron.IFNode)"
   ]
  },
  {
   "cell_type": "code",
   "execution_count": 24,
   "metadata": {},
   "outputs": [
    {
     "name": "stdout",
     "output_type": "stream",
     "text": [
      "tensor([[[0.0799, 0.3078, 0.5607, 0.1194, 0.7777, 0.1256, 0.3183, 0.0404]],\n",
      "\n",
      "        [[0.4675, 0.3792, 0.3507, 0.4036, 0.2648, 0.8790, 0.2643, 0.8474]],\n",
      "\n",
      "        [[0.9221, 0.5476, 0.3989, 0.9733, 0.6206, 0.7059, 0.1174, 0.2876]],\n",
      "\n",
      "        [[0.0225, 0.9355, 0.6947, 0.9885, 0.1407, 0.7220, 0.8831, 0.0446]]])\n"
     ]
    }
   ],
   "source": [
    "T, N = 4, 1\n",
    "x_seq = torch.rand([T, N, 8])\n",
    "with torch.no_grad():\n",
    "    net(x_seq)"
   ]
  },
  {
   "cell_type": "code",
   "execution_count": 25,
   "metadata": {},
   "outputs": [
    {
     "name": "stdout",
     "output_type": "stream",
     "text": [
      "spike_seq_monitor.records=\n",
      "[tensor([[[0., 0., 0., 0.]],\n",
      "\n",
      "        [[0., 0., 0., 0.]],\n",
      "\n",
      "        [[1., 0., 0., 0.]],\n",
      "\n",
      "        [[0., 0., 0., 1.]]]), tensor([[[0., 0.]],\n",
      "\n",
      "        [[0., 0.]],\n",
      "\n",
      "        [[0., 0.]],\n",
      "\n",
      "        [[0., 0.]]])]\n"
     ]
    }
   ],
   "source": [
    "print(f'spike_seq_monitor.records=\\n{spike_seq_monitor.records}')\n"
   ]
  },
  {
   "cell_type": "code",
   "execution_count": 28,
   "metadata": {},
   "outputs": [
    {
     "name": "stdout",
     "output_type": "stream",
     "text": [
      "spike_seq_monitor[0]=tensor([[[0., 0., 0., 0.]],\n",
      "\n",
      "        [[0., 0., 0., 0.]],\n",
      "\n",
      "        [[1., 0., 0., 0.]],\n",
      "\n",
      "        [[0., 0., 0., 1.]]])\n"
     ]
    }
   ],
   "source": [
    "print(f'spike_seq_monitor[0]={spike_seq_monitor[0]}')\n"
   ]
  },
  {
   "cell_type": "code",
   "execution_count": 32,
   "metadata": {},
   "outputs": [
    {
     "name": "stdout",
     "output_type": "stream",
     "text": [
      "net=Sequential(\n",
      "  (0): Linear(in_features=8, out_features=4, bias=True)\n",
      "  (1): IFNode(\n",
      "    v_threshold=1.0, v_reset=0.0, detach_reset=False, step_mode=m, backend=torch\n",
      "    (surrogate_function): Sigmoid(alpha=4.0, spiking=True)\n",
      "  )\n",
      "  (2): Linear(in_features=4, out_features=2, bias=True)\n",
      "  (3): IFNode(\n",
      "    v_threshold=1.0, v_reset=0.0, detach_reset=False, step_mode=m, backend=torch\n",
      "    (surrogate_function): Sigmoid(alpha=4.0, spiking=True)\n",
      "  )\n",
      ")\n",
      "spike_seq_monitor.monitored_layers=['1', '3']\n"
     ]
    }
   ],
   "source": [
    "# Recorded data\n",
    "print(f'net={net}')\n",
    "print(f'spike_seq_monitor.monitored_layers={spike_seq_monitor.monitored_layers}')"
   ]
  },
  {
   "cell_type": "code",
   "execution_count": 33,
   "metadata": {},
   "outputs": [
    {
     "name": "stdout",
     "output_type": "stream",
     "text": [
      "spike_seq_monitor['1']=[]\n"
     ]
    }
   ],
   "source": [
    "## i-th value\n",
    "print(f\"spike_seq_monitor['1']={spike_seq_monitor['1']}\")"
   ]
  },
  {
   "cell_type": "code",
   "execution_count": 34,
   "metadata": {},
   "outputs": [
    {
     "name": "stdout",
     "output_type": "stream",
     "text": [
      "spike_seq_monitor.records=[]\n",
      "spike_seq_monitor['1']=[]\n"
     ]
    }
   ],
   "source": [
    "## Delete recorded data\n",
    "spike_seq_monitor.clear_recorded_data()\n",
    "print(f'spike_seq_monitor.records={spike_seq_monitor.records}')\n",
    "print(f\"spike_seq_monitor['1']={spike_seq_monitor['1']}\")"
   ]
  },
  {
   "attachments": {},
   "cell_type": "markdown",
   "metadata": {},
   "source": [
    "## remove hooks\n"
   ]
  },
  {
   "cell_type": "code",
   "execution_count": 35,
   "metadata": {},
   "outputs": [],
   "source": [
    "spike_seq_monitor.remove_hooks()"
   ]
  },
  {
   "attachments": {},
   "cell_type": "markdown",
   "metadata": {},
   "source": [
    " If we want to record the firing rates, we can define the function of calculating the firing rates:"
   ]
  },
  {
   "cell_type": "code",
   "execution_count": 36,
   "metadata": {},
   "outputs": [],
   "source": [
    "def cal_firing_rate(s_seq: torch.Tensor):\n",
    "    # s_seq.shape = [T, N, *]\n",
    "    return s_seq.flatten(1).mean(1)"
   ]
  },
  {
   "attachments": {},
   "cell_type": "markdown",
   "metadata": {},
   "source": [
    "Then, we can set this function as `function_on_output` to get a firing rates monitor:"
   ]
  },
  {
   "cell_type": "code",
   "execution_count": 37,
   "metadata": {},
   "outputs": [],
   "source": [
    "fr_monitor = monitor.OutputMonitor(net, neuron.IFNode, cal_firing_rate)"
   ]
  },
  {
   "attachments": {},
   "cell_type": "markdown",
   "metadata": {},
   "source": [
    "`.disable()` can pause monitor, and `.enable()` can restart monitor:"
   ]
  },
  {
   "cell_type": "code",
   "execution_count": 38,
   "metadata": {},
   "outputs": [
    {
     "name": "stdout",
     "output_type": "stream",
     "text": [
      "after call fr_monitor.disable(), fr_monitor.records=\n",
      "[]\n",
      "after call fr_monitor.enable(), fr_monitor.records=\n",
      "[tensor([0.0000, 0.0000, 0.2500, 0.2500]), tensor([0., 0., 0., 0.])]\n"
     ]
    }
   ],
   "source": [
    "with torch.no_grad():\n",
    "    fr_monitor.disable()\n",
    "    net(x_seq)\n",
    "    functional.reset_net(net)\n",
    "    print(f'after call fr_monitor.disable(), fr_monitor.records=\\n{fr_monitor.records}')\n",
    "\n",
    "    fr_monitor.enable()\n",
    "    net(x_seq)\n",
    "    print(f'after call fr_monitor.enable(), fr_monitor.records=\\n{fr_monitor.records}')\n",
    "    functional.reset_net(net)\n",
    "    del fr_monitor"
   ]
  },
  {
   "attachments": {},
   "cell_type": "markdown",
   "metadata": {},
   "source": [
    "## Record attributes\n",
    "To record the attributes of some modules, e.g., the membrane potential, we can use `spikingjelly.activation_based.monitor.AttributeMonitor`.\n",
    "\n",
    "`store_v_seq: bool = False` is the default arg in `__init__` of spiking neurons, which means only `v` at the last time-step will be stored, and v_seq at each time-step will not be sotred. To record all $V[t]$, we set `store_v_seq = True`:"
   ]
  },
  {
   "cell_type": "code",
   "execution_count": 39,
   "metadata": {},
   "outputs": [],
   "source": [
    "for m in net.modules():\n",
    "    if isinstance(m, neuron.IFNode):\n",
    "        m.store_v_seq = True"
   ]
  },
  {
   "attachments": {},
   "cell_type": "markdown",
   "metadata": {},
   "source": [
    "Then, we use `spikingjelly.activation_based.monitor.AttributeMonitor` to record:"
   ]
  },
  {
   "cell_type": "code",
   "execution_count": 40,
   "metadata": {},
   "outputs": [
    {
     "name": "stdout",
     "output_type": "stream",
     "text": [
      "v_seq_monitor.records=\n",
      "[tensor([[[ 0.3305,  0.0134, -0.1621,  0.1869]],\n",
      "\n",
      "        [[ 0.5239, -0.2477, -0.5901,  0.2290]],\n",
      "\n",
      "        [[ 0.0000, -0.3150, -1.3329,  0.5524]],\n",
      "\n",
      "        [[ 0.4087, -0.5824, -1.7561,  0.0000]]]), tensor([[[-0.0629,  0.3722]],\n",
      "\n",
      "        [[-0.1257,  0.7443]],\n",
      "\n",
      "        [[ 0.2858,  0.7879]],\n",
      "\n",
      "        [[-0.0122,  0.8719]]])]\n"
     ]
    }
   ],
   "source": [
    "v_seq_monitor = monitor.AttributeMonitor('v_seq', pre_forward=False, net=net, instance=neuron.IFNode)\n",
    "with torch.no_grad():\n",
    "    net(x_seq)\n",
    "    print(f'v_seq_monitor.records=\\n{v_seq_monitor.records}')\n",
    "    functional.reset_net(net)\n",
    "    del v_seq_monitor"
   ]
  },
  {
   "attachments": {},
   "cell_type": "markdown",
   "metadata": {},
   "source": [
    "## Record inputs\n",
    "To record inputs, we can use `spikingjelly.activation_based.monitor.InputMonitor`, which is similar to `spikingjelly.activation_based.monitor.OutputMonitor`:"
   ]
  },
  {
   "cell_type": "code",
   "execution_count": 44,
   "metadata": {},
   "outputs": [
    {
     "name": "stdout",
     "output_type": "stream",
     "text": [
      "input_monitor.records=\n",
      "[tensor([[[-0.0884,  0.4653, -0.3975, -0.1535,  0.6720, -0.0904,  0.5490,\n",
      "           1.0915]],\n",
      "\n",
      "        [[-0.3488,  0.6251, -1.0215, -0.2039,  0.7428, -0.1111,  0.5008,\n",
      "           1.1083]],\n",
      "\n",
      "        [[-0.0718,  0.4112, -0.7085, -0.2981,  0.3660, -0.2687,  0.3207,\n",
      "           1.2908]],\n",
      "\n",
      "        [[ 0.1667,  0.2247, -0.3627,  0.0313,  0.3476, -0.0524,  0.3441,\n",
      "           0.8014]]]), tensor([[[ 0.4228,  0.0509, -0.1642, -0.3007, -0.4748,  0.5256, -0.1688,\n",
      "           0.2881]],\n",
      "\n",
      "        [[-0.1293, -0.5687,  0.3038, -0.1025, -0.3947,  0.3971, -0.1093,\n",
      "           1.0233]],\n",
      "\n",
      "        [[ 0.4228,  0.0509, -0.1642, -0.3007, -0.4748,  0.5256, -0.1688,\n",
      "           0.2881]],\n",
      "\n",
      "        [[ 0.1237,  0.2823, -0.0546, -0.1617, -0.1641,  0.3154,  0.0259,\n",
      "           0.0240]]]), tensor([[[ 0.3416, -0.2761,  0.1017,  0.0788,  0.1890,  0.2876, -0.1870,\n",
      "          -0.0421]],\n",
      "\n",
      "        [[ 0.2122, -0.5372,  0.0986, -0.2290,  0.1446,  0.4215, -0.1969,\n",
      "          -0.3066]],\n",
      "\n",
      "        [[ 0.2234, -0.1626,  0.4442,  0.0308,  0.4871,  0.5783,  0.0621,\n",
      "          -0.1796]],\n",
      "\n",
      "        [[ 0.3416, -0.2761,  0.1017,  0.0788,  0.1890,  0.2876, -0.1870,\n",
      "          -0.0421]]]), tensor([[[-0.3254, -0.1018, -0.1197, -0.1192,  0.2676,  0.0070,  0.0975,\n",
      "          -0.1518]],\n",
      "\n",
      "        [[-0.3254, -0.1018, -0.1197, -0.1192,  0.2676,  0.0070,  0.0975,\n",
      "          -0.1518]],\n",
      "\n",
      "        [[-0.1128, -0.2871, -0.1564, -0.1496,  0.4893,  0.0910, -0.1254,\n",
      "           0.1754]],\n",
      "\n",
      "        [[-0.0448, -0.3979, -0.1124, -0.2285, -0.2933, -0.3878,  0.4224,\n",
      "          -0.5803]]]), tensor([[[-0.3332,  0.3433,  0.1704,  0.2521,  0.0234,  0.1335, -0.0820,\n",
      "           0.2031]],\n",
      "\n",
      "        [[-0.3332,  0.3433,  0.1704,  0.2521,  0.0234,  0.1335, -0.0820,\n",
      "           0.2031]],\n",
      "\n",
      "        [[ 0.0198,  0.2705,  0.1570,  0.4133,  0.2395,  0.2136, -0.3676,\n",
      "           0.4532]],\n",
      "\n",
      "        [[-0.3332,  0.3433,  0.1704,  0.2521,  0.0234,  0.1335, -0.0820,\n",
      "           0.2031]]]), tensor([[[ 0.0391,  0.0445,  0.1722,  0.1687,  0.1445, -0.2078, -0.1472,\n",
      "          -0.0613]],\n",
      "\n",
      "        [[ 0.0391,  0.0445,  0.1722,  0.1687,  0.1445, -0.2078, -0.1472,\n",
      "          -0.0613]],\n",
      "\n",
      "        [[ 0.0391,  0.0445,  0.1722,  0.1687,  0.1445, -0.2078, -0.1472,\n",
      "          -0.0613]],\n",
      "\n",
      "        [[-0.4805, -0.3930,  0.2869,  0.4750,  0.8809, -0.6938,  0.4118,\n",
      "          -0.4205]]]), tensor([[[-0.1967, -0.2738, -0.0425, -0.0960, -0.0381, -0.0296,  0.1848,\n",
      "           0.0783]],\n",
      "\n",
      "        [[-0.1967, -0.2738, -0.0425, -0.0960, -0.0381, -0.0296,  0.1848,\n",
      "           0.0783]],\n",
      "\n",
      "        [[-0.1967, -0.2738, -0.0425, -0.0960, -0.0381, -0.0296,  0.1848,\n",
      "           0.0783]],\n",
      "\n",
      "        [[-0.1911, -0.0572, -0.0137, -0.4456, -0.0224, -0.0811,  0.0889,\n",
      "          -0.2467]]]), tensor([[[ 0.0702,  0.0995, -0.3409, -0.0461, -0.2172,  0.0424, -0.1860,\n",
      "           0.2383]],\n",
      "\n",
      "        [[ 0.0702,  0.0995, -0.3409, -0.0461, -0.2172,  0.0424, -0.1860,\n",
      "           0.2383]],\n",
      "\n",
      "        [[ 0.0702,  0.0995, -0.3409, -0.0461, -0.2172,  0.0424, -0.1860,\n",
      "           0.2383]],\n",
      "\n",
      "        [[ 0.0702,  0.0995, -0.3409, -0.0461, -0.2172,  0.0424, -0.1860,\n",
      "           0.2383]]]), tensor([[[-0.0689,  0.1919, -0.2589, -0.0167,  0.0752,  0.0175, -0.0405,\n",
      "           0.1950]],\n",
      "\n",
      "        [[-0.0689,  0.1919, -0.2589, -0.0167,  0.0752,  0.0175, -0.0405,\n",
      "           0.1950]],\n",
      "\n",
      "        [[-0.0689,  0.1919, -0.2589, -0.0167,  0.0752,  0.0175, -0.0405,\n",
      "           0.1950]],\n",
      "\n",
      "        [[-0.0689,  0.1919, -0.2589, -0.0167,  0.0752,  0.0175, -0.0405,\n",
      "           0.1950]]]), tensor([[[-0.0987,  0.2013,  0.3006, -0.1720,  0.1771, -0.1631,  0.3398,\n",
      "          -0.2315]],\n",
      "\n",
      "        [[-0.0987,  0.2013,  0.3006, -0.1720,  0.1771, -0.1631,  0.3398,\n",
      "          -0.2315]],\n",
      "\n",
      "        [[-0.0987,  0.2013,  0.3006, -0.1720,  0.1771, -0.1631,  0.3398,\n",
      "          -0.2315]],\n",
      "\n",
      "        [[-0.0987,  0.2013,  0.3006, -0.1720,  0.1771, -0.1631,  0.3398,\n",
      "          -0.2315]]])]\n"
     ]
    }
   ],
   "source": [
    "input_monitor = monitor.InputMonitor(net, neuron.IFNode)\n",
    "with torch.no_grad():\n",
    "    net(x_seq)\n",
    "    print(f'input_monitor.records=\\n{input_monitor.records}')\n",
    "    functional.reset_net(net)\n",
    "    del input_monitor"
   ]
  }
 ],
 "metadata": {
  "kernelspec": {
   "display_name": "torch",
   "language": "python",
   "name": "python3"
  },
  "language_info": {
   "codemirror_mode": {
    "name": "ipython",
    "version": 3
   },
   "file_extension": ".py",
   "mimetype": "text/x-python",
   "name": "python",
   "nbconvert_exporter": "python",
   "pygments_lexer": "ipython3",
   "version": "3.9.13 (main, Aug 25 2022, 23:26:10) \n[GCC 11.2.0]"
  },
  "orig_nbformat": 4,
  "vscode": {
   "interpreter": {
    "hash": "e6ca964d4abc3a4ce503db1921255ffd22b6780f73bbbaa8d4d0d179452778ee"
   }
  }
 },
 "nbformat": 4,
 "nbformat_minor": 2
}
